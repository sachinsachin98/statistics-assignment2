{
 "cells": [
  {
   "cell_type": "markdown",
   "id": "c7d7742d-0980-4da7-bf5b-f9fa6d55695b",
   "metadata": {},
   "source": [
    "#Q1\n",
    "The three measures of central tendency are:\n",
    "\n",
    "Mean (Average): The mean is calculated by adding up all the values in a dataset and then dividing by the number of values. It gives you an idea of the \"average\" value in the dataset.\n",
    "\n",
    "Median: The median is the middle value of a dataset when it is arranged in ascending or descending order. It's the value that separates the lower half from the upper half of the data.\n",
    "\n",
    "Mode: The mode is the value that appears most frequently in a dataset. It's the value that occurs with the highest frequency."
   ]
  },
  {
   "cell_type": "markdown",
   "id": "54ac836f-1e55-4b4d-8f8e-c17b092fbc7e",
   "metadata": {},
   "source": [
    "#Q2\n",
    "The mean, median, and mode are three different measures of central tendency used to describe the central or typical value of a dataset. They provide insights into where the \"center\" of the data is located, but they do so in different ways and have distinct characteristics:\n",
    "\n",
    "Mean (Average):\n",
    "\n",
    "Calculation: The mean is calculated by adding up all the values in a dataset and then dividing by the number of values.\n",
    "Sensitivity to Outliers: The mean is sensitive to outliers, as an extremely high or low value can significantly affect its value.\n",
    "Use: The mean is used to quantify the average value of the data. It's commonly used when the data follows a relatively normal distribution.\n",
    "Median:\n",
    "\n",
    "Calculation: The median is the middle value of a dataset when it is arranged in ascending or descending order. If there's an even number of values, the median is the average of the two middle values.\n",
    "Sensitivity to Outliers: The median is less sensitive to outliers compared to the mean because it's based on the position of values rather than their magnitude.\n",
    "Use: The median is used when the data is skewed or contains outliers, as it provides a measure of central tendency that is resistant to extreme values.\n",
    "Mode:\n",
    "\n",
    "Calculation: The mode is the value that appears most frequently in a dataset.\n",
    "Sensitivity to Outliers: The mode is not affected by outliers. It is determined by the frequencies of values rather than their magnitudes.\n",
    "Use: The mode is used to identify the most common value in a dataset. It's especially relevant for categorical data or when identifying the most frequent outcome in a dataset.\n"
   ]
  },
  {
   "cell_type": "code",
   "execution_count": 1,
   "id": "40d53616-8292-424d-b7e9-b97145a63245",
   "metadata": {},
   "outputs": [],
   "source": [
    "#Q3\n",
    "import numpy as np"
   ]
  },
  {
   "cell_type": "code",
   "execution_count": 3,
   "id": "0e6ecacf-6f65-4e92-9795-c0a33d68658c",
   "metadata": {},
   "outputs": [],
   "source": [
    "l=[178,177,176,177,178.2,178,175,179,180,175,178.9,176.2,177,172.5,178,176.5]"
   ]
  },
  {
   "cell_type": "code",
   "execution_count": 4,
   "id": "8665810b-0930-4b2f-b89f-58e034d7d8ed",
   "metadata": {},
   "outputs": [
    {
     "data": {
      "text/plain": [
       "177.01875"
      ]
     },
     "execution_count": 4,
     "metadata": {},
     "output_type": "execute_result"
    }
   ],
   "source": [
    "np.mean(l)"
   ]
  },
  {
   "cell_type": "code",
   "execution_count": 7,
   "id": "6675f26a-b3af-46a8-9b3f-9607cdcda51f",
   "metadata": {},
   "outputs": [
    {
     "data": {
      "text/plain": [
       "177.0"
      ]
     },
     "execution_count": 7,
     "metadata": {},
     "output_type": "execute_result"
    }
   ],
   "source": [
    "np.median(l)"
   ]
  },
  {
   "cell_type": "code",
   "execution_count": 9,
   "id": "5565ce32-9784-4bc5-bd78-5603be191852",
   "metadata": {},
   "outputs": [
    {
     "name": "stdout",
     "output_type": "stream",
     "text": [
      "mode : 178\n"
     ]
    }
   ],
   "source": [
    "from statistics import mode\n",
    "mode_of_l = mode(l)\n",
    "print(f\"mode : {mode_of_l}\")"
   ]
  },
  {
   "cell_type": "code",
   "execution_count": 10,
   "id": "efdd5ca2-5674-4b44-950c-2d601b158e23",
   "metadata": {},
   "outputs": [],
   "source": [
    "#Q4\n",
    "l=[178,177,176,177,178.2,178,175,179,180,175,178.9,176.2,177,172.5,178,176.5]"
   ]
  },
  {
   "cell_type": "code",
   "execution_count": 11,
   "id": "688416ca-66de-42c2-a768-8bb3134f896c",
   "metadata": {},
   "outputs": [
    {
     "data": {
      "text/plain": [
       "1.7885814036548633"
      ]
     },
     "execution_count": 11,
     "metadata": {},
     "output_type": "execute_result"
    }
   ],
   "source": [
    "np.std(l)"
   ]
  },
  {
   "cell_type": "markdown",
   "id": "fff19ac5-a120-4dc2-9a6a-3db54d89df1c",
   "metadata": {},
   "source": [
    "#Q5\n",
    "Measures of dispersion, including range, variance, and standard deviation, are used to quantify the spread, variability, or dispersion of data points within a dataset. They provide insights into how much individual data points deviate from the central value, offering a clearer understanding of the distribution of the data. Here's how they work and an example to illustrate:\n",
    "\n",
    "Range:\n",
    "\n",
    "Calculation: The range is the difference between the maximum and minimum values in a dataset.\n",
    "Use: The range provides a simple measure of how much the data values vary from the lowest to the highest value. However, it is sensitive to outliers and doesn't consider the distribution of values in between.\n",
    "Example: Suppose you have the following ages (in years) of a group of individuals: 25, 30, 28, 35, 23, 42. The range is calculated as 42 (maximum) - 23 (minimum) = 19, indicating that the ages vary by 19 years.\n",
    "\n",
    "Variance:\n",
    "\n",
    "Calculation: The variance is calculated by finding the average of the squared differences between each data point and the mean.\n",
    "Use: Variance quantifies the average \"spread\" of the data points around the mean. A larger variance indicates greater variability.\n",
    "Example: Consider a set of exam scores: 85, 90, 78, 92, 88. First, calculate the mean (mean = 86.6). Then, calculate the squared differences from the mean for each score: (85 - 86.6)^2, (90 - 86.6)^2, and so on. Average these squared differences to get the variance.\n",
    "\n",
    "Standard Deviation:\n",
    "\n",
    "Calculation: The standard deviation is the square root of the variance.\n",
    "Use: The standard deviation provides a measure of how spread out the data values are around the mean. It's a common and widely used measure of dispersion.\n",
    "Example: Using the same exam scores, calculate the variance as mentioned above. Then, take the square root of the variance to obtain the standard deviation.\n"
   ]
  },
  {
   "cell_type": "markdown",
   "id": "2d79a645-49f5-4d46-86b8-780ce67a5738",
   "metadata": {},
   "source": [
    "#Q6\n",
    "A Venn diagram is a graphical representation used to depict the relationships between different sets or groups. It consists of overlapping circles, where each circle represents a set, group, or category, and the overlapping areas represent the intersections between these sets. Venn diagrams are often used to visualize the commonalities and differences between different entities, concepts, or elements.\n",
    "\n",
    "Key features of a Venn diagram:\n",
    "\n",
    "Circles: Each circle in the diagram represents a set or category. The size of the circle can indicate the relative size or importance of the set it represents.\n",
    "\n",
    "Overlap: The overlapping areas between circles represent the elements that belong to both sets. The intersections show the elements that share characteristics or belong to multiple categories.\n",
    "\n",
    "Non-overlapping Regions: The areas within each individual circle but not in the overlapping regions represent elements unique to each set."
   ]
  },
  {
   "cell_type": "code",
   "execution_count": 17,
   "id": "c86885b8-2be1-4a48-849d-19487d58d8b0",
   "metadata": {},
   "outputs": [],
   "source": [
    "#Q7\n",
    "A = {2,3,4,5,6,7} \n",
    "B = {0,2,6,8,10}"
   ]
  },
  {
   "cell_type": "code",
   "execution_count": 20,
   "id": "5741e4ce-924e-4b55-89ac-2c19bdf72405",
   "metadata": {},
   "outputs": [
    {
     "data": {
      "text/plain": [
       "{0, 2, 3, 4, 5, 6, 7, 8, 10}"
      ]
     },
     "execution_count": 20,
     "metadata": {},
     "output_type": "execute_result"
    }
   ],
   "source": [
    "A.union(B)"
   ]
  },
  {
   "cell_type": "code",
   "execution_count": 21,
   "id": "ae6330e8-a1fe-4960-866c-8a53b1892942",
   "metadata": {},
   "outputs": [
    {
     "data": {
      "text/plain": [
       "{2, 6}"
      ]
     },
     "execution_count": 21,
     "metadata": {},
     "output_type": "execute_result"
    }
   ],
   "source": [
    "A.intersection(B)"
   ]
  },
  {
   "cell_type": "markdown",
   "id": "e85f326f-7bba-4338-a8e7-ab490e4af62c",
   "metadata": {},
   "source": [
    "#Q8\n",
    "Skewness in data refers to the asymmetry or lack of symmetry in the distribution of data values in a dataset. It indicates whether the data is skewed to the left (negatively skewed), skewed to the right (positively skewed), or relatively symmetrical (approximately normally distributed). Skewness is an important concept in statistics and data analysis because it provides insights into the shape and characteristics of the data distribution.\n",
    "\n",
    "Negatively Skewed (Left Skewed):\n",
    "\n",
    "In a negatively skewed distribution, the majority of data values are concentrated on the right side of the distribution, and the tail extends towards the left.\n",
    "The mean is typically less than the median in negatively skewed data, as the presence of a few smaller values in the tail pulls the mean towards the left.\n",
    "Positively Skewed (Right Skewed):\n",
    "\n",
    "In a positively skewed distribution, most data values are clustered on the left side of the distribution, and the tail extends towards the right.\n",
    "The mean is generally greater than the median in positively skewed data, as a few larger values in the tail pull the mean towards the right.\n",
    "Symmetrical (Approximately Normally Distributed):\n",
    "\n",
    "In a symmetrical distribution, data values are balanced on both sides of the mean, and the distribution appears roughly symmetric around the center.\n",
    "In this case, the mean, median, and mode are all located at the same point in the distribution.\n"
   ]
  },
  {
   "cell_type": "markdown",
   "id": "8f7b5687-41dc-454f-bd5b-39148f821f9c",
   "metadata": {},
   "source": [
    "#Q9\n",
    "If a dataset is right-skewed, it means that the majority of data values are concentrated on the left side of the distribution, and the tail of the distribution extends towards the right. In a right-skewed distribution, the mean tends to be greater than the median."
   ]
  },
  {
   "cell_type": "markdown",
   "id": "d0566502-7ad4-41f9-a773-4e2c634d245b",
   "metadata": {},
   "source": [
    "#Q10\n",
    "Covariance:\n",
    "\n",
    "Definition: Covariance measures the degree to which two variables change together. It indicates whether an increase in one variable is associated with an increase or decrease in another variable.\n",
    "Calculation: The covariance between two variables X and Y is calculated as the average of the product of the differences between each value and the mean of X and Y.\n",
    "Range: The range of covariance values is unbounded, meaning it can take any positive or negative value. The magnitude of the covariance is not standardized.\n",
    "Interpretation: A positive covariance suggests that as one variable increases, the other tends to increase as well, and vice versa. A negative covariance suggests that as one variable increases, the other tends to decrease, and vice versa. A covariance close to zero indicates a weak or no linear relationship between the variables.\n",
    "\n",
    "Correlation:\n",
    "\n",
    "Definition: Correlation is a standardized measure that quantifies the strength and direction of the linear relationship between two variables. It gives a more interpretable comparison of how closely the two variables move together.\n",
    "Calculation: The correlation coefficient (typically denoted as \"r\") is calculated as the covariance between the variables divided by the product of their standard deviations.\n",
    "Range: The correlation coefficient ranges from -1 to 1. A correlation of +1 indicates a perfect positive linear relationship, 0 indicates no linear relationship, and -1 indicates a perfect negative linear relationship.\n",
    "Interpretation: A positive correlation coefficient suggests that there is a positive linear relationship between the variables, meaning that as one variable increases, the other tends to increase as well. A negative correlation coefficient indicates a negative linear relationship, meaning that as one variable increases, the other tends to decrease.\n",
    "Use in Statistical Analysis:\n",
    "Covariance and correlation are used in various ways in statistical analysis:\n",
    "\n",
    "Data Exploration: Covariance and correlation help analysts understand how variables are related to each other and whether they move together.\n",
    "Linear Regression: Both measures play a key role in linear regression analysis, where the goal is to model the relationship between variables.\n",
    "Portfolio Management: In finance, covariance is used to assess the relationships between different assets in a portfolio.\n",
    "Feature Selection: In machine learning, correlation is used to select features that are most relevant to the target variable.\n",
    "Risk Assessment: Covariance and correlation are used to assess risk in various fields, including finance, insurance, and healthcare.\n"
   ]
  },
  {
   "cell_type": "markdown",
   "id": "81ed64ad-11ac-4f90-aca3-a4848d82bf20",
   "metadata": {},
   "source": [
    "#Q11\n",
    "The formula for calculating the sample mean (average) of a dataset is:\n",
    "\n",
    "x̄ = (x₁ + x₂ +.....+xn) / n\n",
    "where x₁, x₂, ..., xn are the values in the dataset, and n is the number of values in the sample.\n",
    "\n",
    "example-\n",
    "Sample: 1, 2, 24, 19, 25,56,22\n",
    "\n",
    "x̄ = (1+2+24+19+25+56+22)/7\n",
    "x̄ = 21.29"
   ]
  },
  {
   "cell_type": "markdown",
   "id": "cc490c26-336f-4a23-ac11-6f15c6ec375d",
   "metadata": {},
   "source": [
    "#Q12\n",
    "In a normal distribution, also known as a Gaussian distribution or bell curve, there is a specific relationship between its measures of central tendency: mean, median, and mode. This relationship is one of symmetry.\n",
    "\n",
    "Mean, Median, and Mode in a Normal Distribution:\n",
    "\n",
    "Mean:\n",
    "\n",
    "The mean is located at the center of a normal distribution.\n",
    "It is also the balancing point of the distribution, where the left and right sides are symmetrically distributed.\n",
    "Median:\n",
    "\n",
    "The median is also located at the center of a normal distribution.\n",
    "In a perfectly symmetrical normal distribution, the mean and median are equal and coincide at the peak of the curve.\n",
    "Mode:\n",
    "\n",
    "The mode of a normal distribution is the value where the peak of the curve occurs.\n",
    "In a normal distribution, there is only one mode, and it coincides with the mean and median."
   ]
  },
  {
   "cell_type": "markdown",
   "id": "37345e41-5d2b-4017-9066-692ee85f15a4",
   "metadata": {},
   "source": [
    "#Q13\n",
    "Covariance and correlation are both measures that describe the relationship between two variables in a dataset. However, they have distinct characteristics and interpretations:\n",
    "\n",
    "Covariance:\n",
    "\n",
    "Definition: Covariance measures the degree to which two variables change together. It indicates whether an increase in one variable is associated with an increase or decrease in another variable.\n",
    "Calculation: The covariance between two variables X and Y is calculated as the average of the product of the differences between each value and the mean of X and Y.\n",
    "Range: The range of covariance values is unbounded, meaning it can take any positive or negative value. The magnitude of the covariance is not standardized.\n",
    "Interpretation: A positive covariance suggests that as one variable increases, the other tends to increase as well, and vice versa. A negative covariance suggests that as one variable increases, the other tends to decrease, and vice versa. A covariance close to zero indicates a weak or no linear relationship between the variables.\n",
    "Correlation:\n",
    "\n",
    "Definition: Correlation is a standardized measure that quantifies the strength and direction of the linear relationship between two variables. It gives a more interpretable comparison of how closely the two variables move together.\n",
    "Calculation: The correlation coefficient (typically denoted as \"r\") is calculated as the covariance between the variables divided by the product of their standard deviations.\n",
    "Range: The correlation coefficient ranges from -1 to 1. A correlation of +1 indicates a perfect positive linear relationship, 0 indicates no linear relationship, and -1 indicates a perfect negative linear relationship.\n",
    "Interpretation: A positive correlation coefficient suggests that there is a positive linear relationship between the variables, meaning that as one variable increases, the other tends to increase as well. A negative correlation coefficient indicates a negative linear relationship, meaning that as one variable increases, the other tends to decrease.\n"
   ]
  },
  {
   "cell_type": "markdown",
   "id": "8b9a9edc-0f22-4dbe-aeb8-e9c8496e06a7",
   "metadata": {},
   "source": [
    "#Q14\n",
    "\n",
    "Outliers are data points that significantly deviate from the rest of the dataset. They can have a notable impact on measures of central tendency (mean, median, mode) and measures of dispersion (range, variance, standard deviation). The extent of this impact depends on the number of outliers, their magnitudes, and the statistical measure being used.\n",
    "\n",
    "Effect on Measures of Central Tendency:\n",
    "\n",
    "Mean:\n",
    "\n",
    "Outliers can greatly influence the mean, as their values are included in the calculation.\n",
    "A single extreme outlier can pull the mean towards its value, causing the mean to be biased.\n",
    "Median:\n",
    "\n",
    "The median is resistant to the influence of outliers because it is not affected by the actual values of the outliers.\n",
    "However, if an outlier occurs at the end of the data range, it might slightly affect the median.\n",
    "Mode:\n",
    "\n",
    "The mode is not typically affected by outliers, especially in continuous data.\n",
    "Effect on Measures of Dispersion:\n",
    "\n",
    "Range:\n",
    "\n",
    "Outliers can significantly increase the range, especially if they are located far from the bulk of the data.\n",
    "The range is sensitive to the presence of outliers, but it might not give a complete picture of dispersion.\n",
    "Variance and Standard Deviation:\n",
    "\n",
    "Both variance and standard deviation are influenced by outliers, as they involve squared differences from the mean.\n",
    "Outliers contribute to larger squared differences, increasing the value of both variance and standard deviation.\n",
    "Variance and standard deviation are particularly sensitive to outliers due to the squaring effect.\n",
    "Example:\n",
    "Consider a dataset of test scores: 85, 90, 78, 92, 88, 50. The data seems normally distributed, but there's an outlier (50) that is much lower than the rest. Let's see the impact on measures of central tendency and dispersion:\n",
    "\n",
    "Mean: (85 + 90 + 78 + 92 + 88 + 50) / 6 = 80.83\n",
    "\n",
    "Median: The median remains unaffected by the outlier because it's not based on the value of the data points.\n",
    "\n",
    "Mode: The mode remains unaffected by the outlier.\n",
    "\n",
    "Range: The range increases due to the presence of the outlier.\n",
    "\n",
    "Variance and Standard Deviation: Both variance and standard deviation increase due to the squared differences between the outlier and the rest of the data.\n",
    "\n",
    "In this example, the outlier (50) has affected the mean, range, variance, and standard deviation, while the median and mode remain relatively stable"
   ]
  },
  {
   "cell_type": "code",
   "execution_count": null,
   "id": "0b213822-be2b-499a-85f5-c754975ee45d",
   "metadata": {},
   "outputs": [],
   "source": []
  }
 ],
 "metadata": {
  "kernelspec": {
   "display_name": "Python 3 (ipykernel)",
   "language": "python",
   "name": "python3"
  },
  "language_info": {
   "codemirror_mode": {
    "name": "ipython",
    "version": 3
   },
   "file_extension": ".py",
   "mimetype": "text/x-python",
   "name": "python",
   "nbconvert_exporter": "python",
   "pygments_lexer": "ipython3",
   "version": "3.10.8"
  }
 },
 "nbformat": 4,
 "nbformat_minor": 5
}
